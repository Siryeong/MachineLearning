{
  "nbformat": 4,
  "nbformat_minor": 0,
  "metadata": {
    "colab": {
      "name": "Tensorflow.ipynb",
      "provenance": [],
      "collapsed_sections": [
        "TnxekcY2J2tu"
      ],
      "toc_visible": true,
      "mount_file_id": "1g0sI5KQJ-31gWS8VKdS1iJQ9ItraYmHC",
      "authorship_tag": "ABX9TyNWatbSwZ1LJ9xsYcjiIszS",
      "include_colab_link": true
    },
    "kernelspec": {
      "name": "python3",
      "display_name": "Python 3"
    },
    "language_info": {
      "name": "python"
    },
    "accelerator": "GPU"
  },
  "cells": [
    {
      "cell_type": "markdown",
      "metadata": {
        "id": "view-in-github",
        "colab_type": "text"
      },
      "source": [
        "<a href=\"https://colab.research.google.com/github/Siryeong/MachineLearning/blob/main/Tensorflow.ipynb\" target=\"_parent\"><img src=\"https://colab.research.google.com/assets/colab-badge.svg\" alt=\"Open In Colab\"/></a>"
      ]
    },
    {
      "cell_type": "markdown",
      "metadata": {
        "id": "MYSeCQJBJw08"
      },
      "source": [
        "# cats and dogs"
      ]
    },
    {
      "cell_type": "code",
      "metadata": {
        "id": "VuqCzuCmJsmi"
      },
      "source": [
        "!unzip drive/MyDrive/cats_and_dogs_small.zip"
      ],
      "execution_count": null,
      "outputs": []
    },
    {
      "cell_type": "code",
      "metadata": {
        "id": "WjtQ1DlUPqUf"
      },
      "source": [
        "import os\n",
        "import numpy as np\n",
        "from keras.preprocessing.image import ImageDataGenerator\n",
        "base_dir = './cats_and_docs_small'\n",
        "train_dir = os.path.join(base_dir, 'train')\n",
        "validation_dir = os.path.join(base_dir, 'validation')\n",
        "test_dir = os.path.join(base_dir, 'test')\n",
        "datagen = ImageDataGenerator(rescale=1./255)\n",
        "batch_size = 20"
      ],
      "execution_count": 2,
      "outputs": []
    },
    {
      "cell_type": "code",
      "metadata": {
        "id": "-fbo4MHnPC-j"
      },
      "source": [
        "from keras.applications.vgg16 import VGG16\n",
        "conv_base = VGG16(\n",
        " weights='imagenet',\n",
        " include_top=False,\n",
        " input_shape=(150,150,3)\n",
        ")\n",
        "conv_base.summary()"
      ],
      "execution_count": null,
      "outputs": []
    },
    {
      "cell_type": "code",
      "metadata": {
        "id": "X58JIJVVPhWQ"
      },
      "source": [
        "from keras import models\n",
        "from keras.layers import Conv2D, MaxPooling2D, Flatten, Dense, Dropout\n",
        "model = models.Sequential()\n",
        "model.add(conv_base)\n",
        "model.add(Flatten())\n",
        "model.add(Dense(256, activation='relu'))\n",
        "model.add(Dense(1, activation='sigmoid'))\n",
        "model.summary()"
      ],
      "execution_count": null,
      "outputs": []
    },
    {
      "cell_type": "code",
      "metadata": {
        "id": "Q3-XNuEpPj4m"
      },
      "source": [
        "from keras.preprocessing.image import ImageDataGenerator\n",
        "from keras import optimizers\n",
        "train_datagen = ImageDataGenerator(\n",
        " rescale=1./255,\n",
        " rotation_range=40,\n",
        " width_shift_range=0.2,\n",
        " height_shift_range=0.2,\n",
        " shear_range=0.2,\n",
        " zoom_range=0.2,\n",
        " horizontal_flip=True,\n",
        " fill_mode='nearest',\n",
        " )\n",
        "test_datagen = ImageDataGenerator(rescale=1./255) # 검증 데이터는 증식되면 안됨\n",
        "train_generator = train_datagen.flow_from_directory(\n",
        " train_dir,\n",
        " target_size=(150,150),\n",
        " batch_size=32,\n",
        " class_mode='binary'\n",
        ")\n",
        "validation_generator = test_datagen.flow_from_directory(\n",
        " validation_dir,\n",
        " target_size=(150,150),\n",
        " batch_size=32,\n",
        " class_mode='binary'\n",
        ")"
      ],
      "execution_count": null,
      "outputs": []
    },
    {
      "cell_type": "code",
      "metadata": {
        "id": "JB4P08SGPH-9"
      },
      "source": [
        "conv_base.trainable = True\n",
        "set_trainable = False\n",
        "for layer in conv_base.layers:\n",
        " if layer.name == 'block5_conv1':\n",
        "  set_trainable = True\n",
        " if set_trainable:\n",
        "  layer.trainable = True\n",
        " else:\n",
        "  layer.trainable = False\n",
        "model.compile(\n",
        " loss='binary_crossentropy',\n",
        " optimizer=optimizers.RMSprop(lr=1e-5),\n",
        " metrics=['acc']\n",
        ")\n",
        "history = model.fit_generator(\n",
        " train_generator,\n",
        " steps_per_epoch=60,\n",
        " epochs=100,\n",
        " validation_data=validation_generator,\n",
        " validation_steps=50\n",
        ")"
      ],
      "execution_count": null,
      "outputs": []
    },
    {
      "cell_type": "code",
      "metadata": {
        "id": "hd06MflVvmsS"
      },
      "source": [
        "import matplotlib.pyplot as plt\n",
        "acc = history.history['acc']\n",
        "val_acc = history.history['val_acc']\n",
        "loss = history.history['loss']\n",
        "val_loss = history.history['val_loss']\n",
        "epochs = range(1, len(acc)+1)\n",
        "plt.plot(epochs, acc, 'bo', label='Training acc')\n",
        "plt.plot(epochs, val_acc, 'b', label='Validation acc')\n",
        "plt.title('Training and validation accuracy')\n",
        "plt.legend()\n",
        "plt.figure()\n",
        "plt.plot(epochs, loss, 'bo', label='Training loss')\n",
        "plt.plot(epochs, val_loss, 'b', label='Validation loss')\n",
        "plt.title('Training and validation loss')\n",
        "plt.legend()\n",
        "plt.show()"
      ],
      "execution_count": null,
      "outputs": []
    },
    {
      "cell_type": "code",
      "metadata": {
        "id": "NZWoC6x6J2YT"
      },
      "source": [
        ""
      ],
      "execution_count": null,
      "outputs": []
    },
    {
      "cell_type": "markdown",
      "metadata": {
        "id": "TnxekcY2J2tu"
      },
      "source": [
        "# 레모네이드"
      ]
    },
    {
      "cell_type": "code",
      "metadata": {
        "id": "XHxUjLyXJ48j"
      },
      "source": [
        "import tensorflow as tf\n",
        "import pandas as pd\n",
        "\n",
        "# data 준비하기\n",
        "path = \"https://raw.githubusercontent.com/blackdew/tensorflow1/master/csv/lemonade.csv\"\n",
        "lemon = pd.read_csv(path)\n",
        "lemon.head()"
      ],
      "execution_count": null,
      "outputs": []
    },
    {
      "cell_type": "code",
      "metadata": {
        "id": "GGft-uvmJ4-k"
      },
      "source": [
        "# 종속변수, 독립변수\n",
        "trainX = lemon[[\"온도\"]]\n",
        "trainY = lemon[[\"판매량\"]]\n",
        "print(trainX.shape, trainY.shape)"
      ],
      "execution_count": null,
      "outputs": []
    },
    {
      "cell_type": "code",
      "metadata": {
        "id": "sTgt7rFzLrk_"
      },
      "source": [
        " # 모델 정의하기\n",
        "X = tf.keras.layers.Input(shape=[1])\n",
        "Y = tf.keras.layers.Dense(1)(X)\n",
        "model = tf.keras.models.Model(X, Y)\n",
        "model.compile(loss='mse')"
      ],
      "execution_count": null,
      "outputs": []
    },
    {
      "cell_type": "code",
      "metadata": {
        "id": "UC9MPWU6M_y-"
      },
      "source": [
        "model.fit(trainX, trainY, epochs=1000, verbose=0);\n",
        "model.fit(trainX, trainY, epochs=10)"
      ],
      "execution_count": null,
      "outputs": []
    },
    {
      "cell_type": "code",
      "metadata": {
        "colab": {
          "base_uri": "https://localhost:8080/"
        },
        "id": "iANdmvKAOCgw",
        "outputId": "80d380f0-a85e-4d63-e9eb-1b121c1a52d7"
      },
      "source": [
        "model.predict([[15]])"
      ],
      "execution_count": null,
      "outputs": [
        {
          "output_type": "execute_result",
          "data": {
            "text/plain": [
              "array([[30.084]], dtype=float32)"
            ]
          },
          "metadata": {
            "tags": []
          },
          "execution_count": 27
        }
      ]
    },
    {
      "cell_type": "markdown",
      "metadata": {
        "id": "URw0KQ75pLmY"
      },
      "source": [
        "# 보스턴 집값 예측"
      ]
    },
    {
      "cell_type": "code",
      "metadata": {
        "id": "hFYBBrgFpN8w"
      },
      "source": [
        "import tensorflow as tf\n",
        "import pandas as pd\n",
        "\n",
        "path = \"https://raw.githubusercontent.com/blackdew/tensorflow1/master/csv/boston.csv\"\n",
        "data = pd.read_csv(path)\n",
        "data.head()"
      ],
      "execution_count": null,
      "outputs": []
    },
    {
      "cell_type": "code",
      "metadata": {
        "id": "gfRsmskEpN-3"
      },
      "source": [
        "독립 = data[[\"crim\", \"zn\", \"indus\", \"chas\", \"nox\", \"rm\", \"age\", \"dis\", \"rad\", \"tax\", \"ptratio\", \"b\" ,\"lstat\"]]\n",
        "종속 = data[[\"medv\"]]\n",
        "print(독립.shape, 종속.shape)"
      ],
      "execution_count": null,
      "outputs": []
    },
    {
      "cell_type": "code",
      "metadata": {
        "id": "JED4yMsCpOBS"
      },
      "source": [
        "x = tf.keras.layers.Input(shape=[13])\n",
        "y = tf.keras.layers.Dense(1)(x)\n",
        "model = tf.keras.models.Model(x, y);\n",
        "model.compile(loss='mse')"
      ],
      "execution_count": null,
      "outputs": []
    },
    {
      "cell_type": "code",
      "metadata": {
        "id": "bTzPIed1Yaxr"
      },
      "source": [
        "model.fit(독립, 종속, epochs=1000, verbose=0)\n",
        "model.fit(독립, 종속, epochs=10)"
      ],
      "execution_count": null,
      "outputs": []
    },
    {
      "cell_type": "code",
      "metadata": {
        "id": "II6P7BlnYuUm"
      },
      "source": [
        "model.predict([[독립[0:5]]])"
      ],
      "execution_count": null,
      "outputs": []
    },
    {
      "cell_type": "code",
      "metadata": {
        "id": "hpJD56Ykanga"
      },
      "source": [
        "종속[0:5]"
      ],
      "execution_count": null,
      "outputs": []
    },
    {
      "cell_type": "code",
      "metadata": {
        "id": "Owh6A9pNa3aH"
      },
      "source": [
        ""
      ],
      "execution_count": null,
      "outputs": []
    },
    {
      "cell_type": "markdown",
      "metadata": {
        "id": "AKckkbnja3xV"
      },
      "source": [
        "# 아이리스 품종 분류 히든레이어"
      ]
    },
    {
      "cell_type": "code",
      "metadata": {
        "id": "p_-KbOVQdiSF"
      },
      "source": [
        "import tensorflow as tf\n",
        "import pandas as pd\n",
        "path = \"https://raw.githubusercontent.com/blackdew/tensorflow1/master/csv/iris.csv\"\n",
        "data = pd.read_csv(path)\n",
        "data = pd.get_dummies(data)\n",
        "print(data.columns)\n",
        "data.head()"
      ],
      "execution_count": null,
      "outputs": []
    },
    {
      "cell_type": "code",
      "metadata": {
        "id": "IOfNrCA_d3LC"
      },
      "source": [
        "독립 = data[['꽃잎길이', '꽃잎폭', '꽃받침길이', '꽃받침폭']]\n",
        "종속 = data[['품종_setosa', '품종_versicolor', '품종_virginica']]\n",
        "print(독립.shape, 종속.shape)"
      ],
      "execution_count": null,
      "outputs": []
    },
    {
      "cell_type": "code",
      "metadata": {
        "id": "zcsQjloueFCB"
      },
      "source": [
        "x = tf.keras.layers.Input(shape=[4])\n",
        "h = tf.keras.layers.Dense(8, activation='swish')(x)\n",
        "h = tf.keras.layers.Dense(8, activation='swish')(h)\n",
        "h = tf.keras.layers.Dense(8, activation='swish')(h)\n",
        "y = tf.keras.layers.Dense(3, activation='softmax')(h)\n",
        "model = tf.keras.models.Model(x, y)\n",
        "model.compile(loss='categorical_crossentropy', metrics='acc')"
      ],
      "execution_count": null,
      "outputs": []
    },
    {
      "cell_type": "code",
      "metadata": {
        "id": "DDSG8jjmkan3"
      },
      "source": [
        "model.summary()"
      ],
      "execution_count": null,
      "outputs": []
    },
    {
      "cell_type": "code",
      "metadata": {
        "id": "NgScmuaSfmym"
      },
      "source": [
        "model.fit(독립, 종속, epochs=1000, verbose=0)\n",
        "model.fit(독립, 종속, epochs=10)"
      ],
      "execution_count": null,
      "outputs": []
    },
    {
      "cell_type": "code",
      "metadata": {
        "id": "-hBvwAYYgIdl"
      },
      "source": [
        "model.predict(독립[-5:])"
      ],
      "execution_count": null,
      "outputs": []
    },
    {
      "cell_type": "code",
      "metadata": {
        "id": "r8GJWxsmgIfo"
      },
      "source": [
        "종속[-5:]"
      ],
      "execution_count": null,
      "outputs": []
    },
    {
      "cell_type": "code",
      "metadata": {
        "id": "KzDdrZ01hKz-"
      },
      "source": [
        "model.get_weights()"
      ],
      "execution_count": null,
      "outputs": []
    },
    {
      "cell_type": "code",
      "metadata": {
        "id": "SAJhd4wViEtT"
      },
      "source": [
        ""
      ],
      "execution_count": null,
      "outputs": []
    },
    {
      "cell_type": "markdown",
      "metadata": {
        "id": "sERmYFfriFE0"
      },
      "source": [
        "# 보스턴 집값 히든레이어"
      ]
    },
    {
      "cell_type": "code",
      "metadata": {
        "id": "5Cnj86N8iHJE"
      },
      "source": [
        "import tensorflow as tf\n",
        "import pandas as pd\n",
        "\n",
        "path = \"https://raw.githubusercontent.com/blackdew/tensorflow1/master/csv/boston.csv\"\n",
        "보스턴 = pd.read_csv(path)\n",
        "print(보스턴.columns)\n",
        "보스턴.head()"
      ],
      "execution_count": null,
      "outputs": []
    },
    {
      "cell_type": "code",
      "metadata": {
        "id": "UsZ5RvObienu"
      },
      "source": [
        "독립 = 보스턴[['crim', 'zn', 'indus', 'chas', 'nox', 'rm', 'age', 'dis', 'rad', 'tax',\n",
        "       'ptratio', 'b', 'lstat']]\n",
        "종속 = 보스턴[['medv']]\n",
        "print(독립.shape, 종속.shape)"
      ],
      "execution_count": null,
      "outputs": []
    },
    {
      "cell_type": "code",
      "metadata": {
        "id": "ew-XiynpiqY_"
      },
      "source": [
        "x = tf.keras.layers.Input([13])\n",
        "\n",
        "h = tf.keras.layers.Dense(10)(x)\n",
        "h = tf.keras.layers.BatchNormalization()(h)\n",
        "h = tf.keras.layers.Activation('swish')(h)\n",
        "\n",
        "h = tf.keras.layers.Dense(10)(h)\n",
        "h = tf.keras.layers.BatchNormalization()(h)\n",
        "h = tf.keras.layers.Activation('swish')(h)\n",
        "\n",
        "h = tf.keras.layers.Dense(10)(h)\n",
        "h = tf.keras.layers.BatchNormalization()(h)\n",
        "h = tf.keras.layers.Activation('swish')(h)\n",
        "\n",
        "y = tf.keras.layers.Dense(1)(h)\n",
        "model = tf.keras.models.Model(x, y)\n",
        "model.compile(loss='mse')"
      ],
      "execution_count": null,
      "outputs": []
    },
    {
      "cell_type": "code",
      "metadata": {
        "id": "1hx6N-JGjvI8"
      },
      "source": [
        "model.summary()"
      ],
      "execution_count": null,
      "outputs": []
    },
    {
      "cell_type": "code",
      "metadata": {
        "id": "97r1z9zgjcgt"
      },
      "source": [
        "model.fit(독립, 종속, epochs=1000, verbose=0)\n",
        "model.fit(독립, 종속, epochs=10)"
      ],
      "execution_count": null,
      "outputs": []
    },
    {
      "cell_type": "code",
      "metadata": {
        "id": "6jOrmAdekDbv"
      },
      "source": [
        "model.predict(독립[0:5])"
      ],
      "execution_count": null,
      "outputs": []
    },
    {
      "cell_type": "code",
      "metadata": {
        "id": "e4KuKPCkkGi6"
      },
      "source": [
        "종속[0:5]"
      ],
      "execution_count": null,
      "outputs": []
    },
    {
      "cell_type": "code",
      "metadata": {
        "id": "7DgEK96gy0d4"
      },
      "source": [
        ""
      ],
      "execution_count": null,
      "outputs": []
    },
    {
      "cell_type": "markdown",
      "metadata": {
        "id": "OektVn9sKDUy"
      },
      "source": [
        "# MNIST"
      ]
    },
    {
      "cell_type": "markdown",
      "metadata": {
        "id": "KrCIgIzavDM4"
      },
      "source": [
        "## 데이터 불러오기"
      ]
    },
    {
      "cell_type": "code",
      "metadata": {
        "id": "oXsWwlz9KFn8"
      },
      "source": [
        "# 데이터 불러오기\n",
        "from tensorflow.keras import datasets\n",
        "import pandas as pd\n",
        "\n",
        "(독립, 종속), _ = datasets.mnist.load_data()\n",
        "print(독립.shape, 종속.shape) # 모양 확인\n",
        "종속 = pd.get_dummies(종속) # 원핫 인코딩"
      ],
      "execution_count": null,
      "outputs": []
    },
    {
      "cell_type": "code",
      "metadata": {
        "id": "8HHfEH5dMgOB"
      },
      "source": [
        "# 이미지 확인\n",
        "import matplotlib.pyplot as plt\n",
        "\n",
        "print(종속.head)\n",
        "plt.imshow(독립[0], cmap='gray')"
      ],
      "execution_count": null,
      "outputs": []
    },
    {
      "cell_type": "markdown",
      "metadata": {
        "id": "R4zt0MJvvI-P"
      },
      "source": [
        "## 모델 구성하기"
      ]
    },
    {
      "cell_type": "markdown",
      "metadata": {
        "id": "IyJKSskSuyS9"
      },
      "source": [
        "### reshape"
      ]
    },
    {
      "cell_type": "code",
      "metadata": {
        "id": "zd0ZvcGXu1q9"
      },
      "source": [
        "# 모델 구성하기 reshape\n",
        "import tensorflow as tf\n",
        "from tensorflow import keras\n",
        "\n",
        "독립 = 독립.reshape(60000, 784)\n",
        "\n",
        "x = keras.layers.Input(shape=[784])\n",
        "h = keras.layers.Dense(84, activation='swish')(h)\n",
        "y = keras.layers.Dense(10, activation='softmax')(h)\n",
        "model = keras.models.Model(x, y)\n",
        "model.compile(loss='categorical_crossentropy', metrics='acc')"
      ],
      "execution_count": null,
      "outputs": []
    },
    {
      "cell_type": "markdown",
      "metadata": {
        "id": "xxjiYe-euejp"
      },
      "source": [
        "### flatten"
      ]
    },
    {
      "cell_type": "code",
      "metadata": {
        "id": "UwKOvJLvMgak"
      },
      "source": [
        "# 모델 구성하기 flatten\n",
        "import tensorflow as tf\n",
        "from tensorflow import keras\n",
        "\n",
        "x = keras.layers.Input(shape=[28, 28])\n",
        "h = keras.layers.Flatten()(x)\n",
        "h = keras.layers.Dense(84, activation='swish')(h)\n",
        "y = keras.layers.Dense(10, activation='softmax')(h)\n",
        "model = keras.models.Model(x, y)\n",
        "model.compile(loss='categorical_crossentropy', metrics='acc')"
      ],
      "execution_count": 55,
      "outputs": []
    },
    {
      "cell_type": "markdown",
      "metadata": {
        "id": "yVq6lA1au9X6"
      },
      "source": [
        "### conv2D"
      ]
    },
    {
      "cell_type": "code",
      "metadata": {
        "id": "mZjhjq8LvTM4"
      },
      "source": [
        "# 모델 구성하기 conv2D\n",
        "import tensorflow as tf\n",
        "from tensorflow import keras\n",
        "from keras.layers import Input, Conv2D, Flatten, Dense\n",
        "from keras import models\n",
        "\n",
        "## reshape\n",
        "독립 = 독립.reshape(60000, 28, 28, 1)\n",
        "\n",
        "## 모델 정의\n",
        "x = Input(shape=[28, 28, 1])\n",
        "h = Conv2D(3, kernel_size=5, activation='swish')(x)\n",
        "h = Conv2D(6, kernel_size=5, activation='swish')(h)\n",
        "h = Flatten()(h)\n",
        "h = Dense(84, activation='swish')(h)\n",
        "y = Dense(10, activation='softmax')(h)\n",
        "\n",
        "model = models.Model(x, y)\n",
        "model.compile(loss = 'categorical_crossentropy', metrics='acc')"
      ],
      "execution_count": 8,
      "outputs": []
    },
    {
      "cell_type": "markdown",
      "metadata": {
        "id": "nC3kYs0VHOug"
      },
      "source": [
        "###MaxPooling"
      ]
    },
    {
      "cell_type": "code",
      "metadata": {
        "id": "OTI0VzDnHRoI"
      },
      "source": [
        "# 모델 구성하기 MaxPool\n",
        "import tensorflow as tf\n",
        "from tensorflow import keras\n",
        "from keras.layers import Input, Conv2D, Flatten, Dense, MaxPool2D\n",
        "from keras import models\n",
        "\n",
        "## reshape\n",
        "독립 = 독립.reshape(60000, 28, 28, 1)\n",
        "\n",
        "## 모델 정의\n",
        "x = Input(shape=[28, 28, 1])\n",
        "h = Conv2D(3, kernel_size=5, activation='swish')(x)\n",
        "h = MaxPool2D()(h)\n",
        "h = Conv2D(6, kernel_size=5, activation='swish')(h)\n",
        "h = MaxPool2D()(h)\n",
        "h = Flatten()(h)\n",
        "h = Dense(84, activation='swish')(h)\n",
        "y = Dense(10, activation='softmax')(h)\n",
        "\n",
        "model = models.Model(x, y)\n",
        "model.compile(loss = 'categorical_crossentropy', metrics='acc')"
      ],
      "execution_count": 10,
      "outputs": []
    },
    {
      "cell_type": "markdown",
      "metadata": {
        "id": "wEnxjcAts4L4"
      },
      "source": [
        "### Lenet"
      ]
    },
    {
      "cell_type": "code",
      "metadata": {
        "id": "bfBht8pEs6tl"
      },
      "source": [
        "# 모델 구성하기 Lenet\n",
        "import tensorflow as tf\n",
        "from tensorflow import keras\n",
        "from keras.layers import Input, Conv2D, Flatten, Dense, MaxPool2D\n",
        "from keras import models\n",
        "\n",
        "## reshape\n",
        "독립 = 독립.reshape(60000, 28, 28, 1)\n",
        "\n",
        "## 모델 정의\n",
        "x = Input(shape=[28, 28, 1])\n",
        "h = Conv2D(3, kernel_size=5, padding='same',activation='swish')(x)\n",
        "h = MaxPool2D()(h)\n",
        "h = Conv2D(16, kernel_size=5, activation='swish')(h)\n",
        "h = MaxPool2D()(h)\n",
        "h = Flatten()(h)\n",
        "h = Dense(84, activation='swish')(h)\n",
        "y = Dense(10, activation='softmax')(h)\n",
        "\n",
        "model = models.Model(x, y)\n",
        "model.compile(loss = 'categorical_crossentropy', metrics='acc')"
      ],
      "execution_count": 17,
      "outputs": []
    },
    {
      "cell_type": "code",
      "metadata": {
        "id": "jijRULIJvTKy"
      },
      "source": [
        "model.summary()"
      ],
      "execution_count": null,
      "outputs": []
    },
    {
      "cell_type": "markdown",
      "metadata": {
        "id": "ny76NVjwvUPH"
      },
      "source": [
        "## 모델 학습시키기"
      ]
    },
    {
      "cell_type": "code",
      "metadata": {
        "id": "5QCcN0gMMgpy"
      },
      "source": [
        "# 모델 학습하기\n",
        "model.fit(독립, 종속, epochs=10)"
      ],
      "execution_count": null,
      "outputs": []
    },
    {
      "cell_type": "markdown",
      "metadata": {
        "id": "YqHNw2uwvaN5"
      },
      "source": [
        "## 모델 사용하기"
      ]
    },
    {
      "cell_type": "code",
      "metadata": {
        "id": "Uhc0KsW_MbRe"
      },
      "source": [
        "# 모델 사용하기\n",
        "import pandas as pd\n",
        "\n",
        "result = model.predict(독립[0:5])\n",
        "pd.DataFrame(result).round(2)"
      ],
      "execution_count": null,
      "outputs": []
    },
    {
      "cell_type": "code",
      "metadata": {
        "id": "RQc5W5MlMbTs"
      },
      "source": [
        "종속[0:5]"
      ],
      "execution_count": null,
      "outputs": []
    },
    {
      "cell_type": "code",
      "metadata": {
        "id": "55iUMTumMbWJ"
      },
      "source": [
        "model.summary()"
      ],
      "execution_count": null,
      "outputs": []
    },
    {
      "cell_type": "markdown",
      "metadata": {
        "id": "Aclcub0FMcAQ"
      },
      "source": [
        "# CIFAR10"
      ]
    },
    {
      "cell_type": "markdown",
      "metadata": {
        "id": "l4eJH5QPqYqD"
      },
      "source": [
        "##데이터 불러오기"
      ]
    },
    {
      "cell_type": "code",
      "metadata": {
        "id": "-lUY2xphMdH2"
      },
      "source": [
        "# 데이터 불러오기\n",
        "import tensorflow as tf\n",
        "from tensorflow.keras import datasets\n",
        "import pandas as pd\n",
        "\n",
        "(독립, 종속), _ = datasets.cifar10.load_data()\n",
        "print(독립.shape, 종속.shape)\n",
        "\n",
        "종속 = pd.get_dummies(종속.reshape(50000))\n",
        "print(독립.shape, 종속.shape)"
      ],
      "execution_count": null,
      "outputs": []
    },
    {
      "cell_type": "code",
      "metadata": {
        "id": "jsS1X_HXN9sV"
      },
      "source": [
        "# 데이터 확인\n",
        "import matplotlib.pyplot as plt\n",
        "print(종속[0])\n",
        "plt.imshow(독립[0])"
      ],
      "execution_count": null,
      "outputs": []
    },
    {
      "cell_type": "markdown",
      "metadata": {
        "id": "OEtNM3KkqdnN"
      },
      "source": [
        "##모델 구성하기"
      ]
    },
    {
      "cell_type": "code",
      "metadata": {
        "id": "gS_uCagDqe5T"
      },
      "source": [
        "# LeNet 5 구조로 모델 구성하기\n",
        "\n",
        "import tensorflow.keras\n",
        "from keras.layers import Input, Dense, Conv2D, Flatten, MaxPool2D\n",
        "from keras import models\n",
        "\n",
        "x = Input(shape=[32, 32, 3])\n",
        "h = Conv2D(6, kernel_size=5, activation='swish')(x)\n",
        "h = MaxPool2D()(h)\n",
        "h = Conv2D(16, kernel_size=5, activation='swish')(h)\n",
        "h = MaxPool2D()(h)\n",
        "\n",
        "h = Flatten()(h)\n",
        "h = Dense(120, activation='swish')(h)\n",
        "h = Dense(84, activation='swish')(h)\n",
        "y = Dense(10, activation='softmax')(h)\n",
        "\n",
        "model = models.Model(x, y)\n",
        "model.compile(loss='categorical_crossentropy', metrics='acc')"
      ],
      "execution_count": 10,
      "outputs": []
    },
    {
      "cell_type": "code",
      "metadata": {
        "id": "iUsMVdm7uheF"
      },
      "source": [
        "model.summary()"
      ],
      "execution_count": null,
      "outputs": []
    },
    {
      "cell_type": "markdown",
      "metadata": {
        "id": "9BflKUNfyxo5"
      },
      "source": [
        "## 모델 학습하기"
      ]
    },
    {
      "cell_type": "code",
      "metadata": {
        "id": "1nO1JtsovbRv"
      },
      "source": [
        "model.fit(독립, 종속, epochs=100)"
      ],
      "execution_count": null,
      "outputs": []
    }
  ]
}